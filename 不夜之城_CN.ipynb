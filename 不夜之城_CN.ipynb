{
 "cells": [
  {
   "cell_type": "code",
   "execution_count": 21,
   "metadata": {},
   "outputs": [],
   "source": [
    "import asyncio\n",
    "from data_project.gsheets import DateSheet\n",
    "from datetime import date, timedelta, datetime\n",
    "import pandas as pd\n",
    "\n",
    "\n",
    "target_date = (date.today() - timedelta(days=1))\n",
    "\n",
    "async def create_sheet():\n",
    "    return DateSheet('[RP_CN] Revenue Report', date=target_date.isoformat())\n",
    "\n",
    "task_sheet = asyncio.create_task(create_sheet())\n",
    "await task_sheet\n",
    "mysheet = task_sheet.result()"
   ]
  },
  {
   "cell_type": "markdown",
   "metadata": {},
   "source": [
    "# Filter Data"
   ]
  },
  {
   "cell_type": "code",
   "execution_count": 22,
   "metadata": {},
   "outputs": [
    {
     "name": "stderr",
     "output_type": "stream",
     "text": [
      "/Users/serenayu/Documents/data-project/data_project/gsheets.py:81: UserWarning: No columns named '日期' or 'date'.\n",
      "  warnings.warn(\"No columns named '日期' or 'date'.\")\n",
      "/Users/serenayu/Documents/data-project/data_project/gsheets.py:91: UserWarning: Given date 2024-09-07 not found, min 2023-12-31 max 2024-09-05\n",
      "  warnings.warn(f'Given date {date} not found, min {dates[self.headers_row]} max {dates[-1]}')\n"
     ]
    },
    {
     "name": "stdout",
     "output_type": "stream",
     "text": [
      "max value: 2024-09-05\n"
     ]
    }
   ],
   "source": [
    "import datetime\n",
    "\n",
    "mysheet = DateSheet('[RP_CN] 不夜之城禮包收入 ', date=target_date.isoformat())\n",
    "mysheet.change_sheet('DATA')\n",
    "sheet = mysheet.worksheet\n",
    "\n",
    "data = sheet.get_all_values()\n",
    "\n",
    "headers = data[0]\n",
    "data = data[1:]\n",
    "\n",
    "date_col_index = headers.index(\"DATE\")\n",
    "\n",
    "date_values = [row[date_col_index] for row in data[0:]]\n",
    "\n",
    "max_value = None\n",
    "for value in date_values:\n",
    "    try:\n",
    "        num_value = datetime.date.fromisoformat(value)\n",
    "        if max_value is None or num_value > max_value:\n",
    "            max_value = num_value\n",
    "    except ValueError:\n",
    "        continue\n",
    "\n",
    "if max_value is not None:\n",
    "    print(\"max value:\", max_value)\n",
    "else:\n",
    "    print(\"False\")"
   ]
  },
  {
   "cell_type": "code",
   "execution_count": 33,
   "metadata": {},
   "outputs": [
    {
     "name": "stdout",
     "output_type": "stream",
     "text": [
      "       serverPrefix      userId       Create Time Package ID Package Name  \\\n",
      "228507         1049  1049010887  2023-11-08 11:36       1761      日冕石特惠禮包   \n",
      "228509         1049  1049010887  2023-11-08 11:36       1761      日冕石特惠禮包   \n",
      "228510         1136  1136019490   2024-07-03 5:29       1761      日冕石特惠禮包   \n",
      "228512         1104  1104007679  2024-03-15 20:25       1761      日冕石特惠禮包   \n",
      "228548         1152  1152016530   2024-08-26 23:9       1776      日冕石特惠禮包   \n",
      "228549         1152  1152016530   2024-08-26 23:9       1776      日冕石特惠禮包   \n",
      "\n",
      "         Package Type price  Purchase Time   分類1   分類2     USD  \\\n",
      "228507  TreasureHouse   250  5/9/2024 2:21  不夜之城  活動禮包  $3.750   \n",
      "228509  TreasureHouse   250  5/9/2024 2:21  不夜之城  活動禮包  $3.750   \n",
      "228510  TreasureHouse   250  5/9/2024 2:22  不夜之城  活動禮包  $3.750   \n",
      "228512  TreasureHouse   250  5/9/2024 2:24  不夜之城  活動禮包  $3.750   \n",
      "228548  TreasureHouse   250  5/9/2024 2:59  不夜之城  活動禮包  $3.750   \n",
      "228549  TreasureHouse   250  5/9/2024 2:59  不夜之城  活動禮包  $3.750   \n",
      "\n",
      "                         Unique ID    Reg Date    PUR Date    PUR Week  \\\n",
      "228507  TreasureHouse_1761_日冕石特惠禮包  2023-11-08  2024-09-05  2024-09-02   \n",
      "228509  TreasureHouse_1761_日冕石特惠禮包  2023-11-08  2024-09-05  2024-09-02   \n",
      "228510  TreasureHouse_1761_日冕石特惠禮包  2024-07-03  2024-09-05  2024-09-02   \n",
      "228512  TreasureHouse_1761_日冕石特惠禮包  2024-03-15  2024-09-05  2024-09-02   \n",
      "228548  TreasureHouse_1776_日冕石特惠禮包  2024-08-26  2024-09-05  2024-09-02   \n",
      "228549  TreasureHouse_1776_日冕石特惠禮包  2024-08-26  2024-09-05  2024-09-02   \n",
      "\n",
      "        PUR MTH Retention    UNI by PUR USD by Day   白名單  \n",
      "228507  2024-09       302  0.1428571429       12.3  #N/A  \n",
      "228509  2024-09       302  0.1428571429       12.3  #N/A  \n",
      "228510  2024-09        64           0.2      9.975  #N/A  \n",
      "228512  2024-09       174          0.25       12.9  #N/A  \n",
      "228548  2024-09        10          0.25     13.575  #N/A  \n",
      "228549  2024-09        10          0.25     13.575  #N/A  \n",
      "Number of rows in the filtered DataFrame: 6\n"
     ]
    }
   ],
   "source": [
    "import datetime\n",
    "\n",
    "target_date = (datetime.date.today() - datetime.timedelta(days=1))\n",
    "\n",
    "async def create_sheet():\n",
    "    return DateSheet('[RP_CN] Revenue Report', date=target_date.isoformat())\n",
    "\n",
    "task_sheet = asyncio.create_task(create_sheet())\n",
    "await task_sheet\n",
    "mysheet = task_sheet.result()\n",
    "\n",
    "# Change sheet\n",
    "mysheet.change_sheet(\"data\", headers_row=2)\n",
    "sheet = mysheet.worksheet\n",
    "\n",
    "# Yesterday\n",
    "today = datetime.datetime.now()\n",
    "yesterday = today - datetime.timedelta(days=1)\n",
    "yesterday_str = yesterday.strftime('%Y-%m-%d')\n",
    "\n",
    "# Get all values from sheet\n",
    "data = sheet.get_all_values()\n",
    "# headers are in the second row (index 1)\n",
    "headers = data[1]\n",
    "data = data[2:]\n",
    "\n",
    "df = pd.DataFrame(data, columns=headers)\n",
    "\n",
    "def str2date(x):\n",
    "    try:\n",
    "        return datetime.date.fromisoformat(x)\n",
    "    except:\n",
    "        return datetime.date(1900, 1, 1)\n",
    "\n",
    "filtered_df = df[(df['分類1'] == '不夜之城') & (df['PUR Date'].apply(str2date) == max_value)]\n",
    "\n",
    "print(filtered_df)\n",
    "\n",
    "filtered_num_rows = filtered_df.shape[0]\n",
    "print(\"Number of rows in the filtered DataFrame:\", filtered_num_rows)"
   ]
  },
  {
   "cell_type": "code",
   "execution_count": 66,
   "metadata": {},
   "outputs": [
    {
     "data": {
      "text/plain": [
       "Index(['serverPrefix', 'userId', 'Create Time', 'Package ID', 'Package Name',\n",
       "       'Package Type', 'price', 'Purchase Time', '分類1', '分類2', 'USD',\n",
       "       'Unique ID', 'Reg Date', 'PUR Date', 'PUR Week', 'PUR MTH', 'Retention',\n",
       "       'UNI by PUR', 'USD by Day', '白名單'],\n",
       "      dtype='object')"
      ]
     },
     "execution_count": 66,
     "metadata": {},
     "output_type": "execute_result"
    }
   ],
   "source": [
    "filtered_df.columns"
   ]
  },
  {
   "cell_type": "markdown",
   "metadata": {},
   "source": [
    "# Insert Data"
   ]
  },
  {
   "cell_type": "code",
   "execution_count": 43,
   "metadata": {},
   "outputs": [
    {
     "name": "stderr",
     "output_type": "stream",
     "text": [
      "/Users/serenayu/Documents/data-project/data_project/gsheets.py:81: UserWarning: No columns named '日期' or 'date'.\n",
      "  warnings.warn(\"No columns named '日期' or 'date'.\")\n",
      "/var/folders/ct/v7_skn0d1qj1fx21m526kmwm0000gn/T/ipykernel_20816/546836252.py:45: DeprecationWarning: The order of arguments in worksheet.update() has changed. Please pass values first and range_name secondor used named arguments (range_name=, values=)\n",
      "  sheet.update(cell, data.fillna('').values.tolist(), raw=False)\n"
     ]
    },
    {
     "data": {
      "text/plain": [
       "{'spreadsheetId': '18uqZjmH4LHTrbJyp-G5uMJlWR6TmIsK187simq8VMYY',\n",
       " 'updatedRange': 'DATA!A21258:J21263',\n",
       " 'updatedRows': 6,\n",
       " 'updatedColumns': 10,\n",
       " 'updatedCells': 60}"
      ]
     },
     "execution_count": 43,
     "metadata": {},
     "output_type": "execute_result"
    }
   ],
   "source": [
    "# select the target sheet\n",
    "mysheet = DateSheet('[RP_CN] 不夜之城禮包收入 ', date=target_date.isoformat())\n",
    "mysheet.change_sheet('DATA')\n",
    "sheet = mysheet.worksheet\n",
    "data = filtered_df.copy()\n",
    "#data = data.iloc[: 10]  # only update the first 10 rows\n",
    "\n",
    "# append empty row\n",
    "num_columns = len(sheet.row_values(1))\n",
    "empty_row = [''] * num_columns\n",
    "sheet.append_row(empty_row)\n",
    "\n",
    "# define the relation of columns\n",
    "column_names = {\n",
    "    \"serverPrefix\": \"serverPrefix\",\n",
    "    \"userId\": \"userId\",\n",
    "    \"Purchase Time\": \"Purchase Time\",\n",
    "}\n",
    "\n",
    "# rename the col of data\n",
    "data.columns = [column_names.get(c, c).lower() for c in data.columns]\n",
    "\n",
    "# sort & filter columns\n",
    "for header in mysheet.headers:\n",
    "    if header not in data.columns:\n",
    "        data.loc[:, header] = None\n",
    "data = data[mysheet.headers]\n",
    "\n",
    "# update formula\n",
    "row_num = len(sheet.col_values(1))\n",
    "data.loc[:, '購買次數上限 by package_id'] = range(len(data))\n",
    "def update_formula(x):\n",
    "    r = row_num + 1 + x\n",
    "    return f\"=COUNTIFS(B:B,B{r},D:D,D{r})\"\n",
    "data.loc[:, \"購買次數上限 by package_id\"] = data.loc[:, \"購買次數上限 by package_id\"].apply(update_formula)\n",
    "\n",
    "# sort rows\n",
    "# data['ct'] = data['ct'].str.replace(\" \", \"T\").apply(datetime.fromisoformat)  # convert str into datetime\n",
    "data.sort_values(\"purchase time\", ascending=True, inplace=True)\n",
    "\n",
    "# compute the cell to paste\n",
    "cell = f\"A{row_num + 1}\"\n",
    "\n",
    "# update the target sheet\n",
    "sheet.update(cell, data.fillna('').values.tolist(), raw=False)\n"
   ]
  },
  {
   "cell_type": "code",
   "execution_count": null,
   "metadata": {},
   "outputs": [],
   "source": []
  }
 ],
 "metadata": {
  "kernelspec": {
   "display_name": "base",
   "language": "python",
   "name": "python3"
  },
  "language_info": {
   "codemirror_mode": {
    "name": "ipython",
    "version": 3
   },
   "file_extension": ".py",
   "mimetype": "text/x-python",
   "name": "python",
   "nbconvert_exporter": "python",
   "pygments_lexer": "ipython3",
   "version": "3.11.5"
  }
 },
 "nbformat": 4,
 "nbformat_minor": 2
}
