{
 "cells": [
  {
   "cell_type": "code",
   "execution_count": 8,
   "metadata": {},
   "outputs": [],
   "source": [
    "import asyncio\n",
    "from data_project.gsheets import DateSheet\n",
    "from datetime import date, timedelta, datetime\n",
    "import pandas as pd\n",
    "\n",
    "\n",
    "target_date = (date.today() - timedelta(days=1))\n",
    "\n",
    "async def create_sheet():\n",
    "    return DateSheet('[RP_DMM] Revenue Report', date=target_date.isoformat())\n",
    "\n",
    "task_sheet = asyncio.create_task(create_sheet())\n",
    "await task_sheet\n",
    "mysheet = task_sheet.result()"
   ]
  },
  {
   "cell_type": "code",
   "execution_count": 9,
   "metadata": {},
   "outputs": [
    {
     "ename": "ValueError",
     "evalue": "'date' is not in list",
     "output_type": "error",
     "traceback": [
      "\u001b[1;31m---------------------------------------------------------------------------\u001b[0m",
      "\u001b[1;31mValueError\u001b[0m                                Traceback (most recent call last)",
      "File \u001b[1;32md:\\Serena_Yu\\Desktop\\data-project-main-87\\data-project-main\\gsheets.py:70\u001b[0m, in \u001b[0;36mDateSheet.__find_date\u001b[1;34m(self)\u001b[0m\n\u001b[0;32m     69\u001b[0m col_id \u001b[38;5;241m=\u001b[39m \u001b[38;5;241m-\u001b[39m\u001b[38;5;241m1\u001b[39m\n\u001b[1;32m---> 70\u001b[0m \u001b[38;5;28;01mfor\u001b[39;00m key \u001b[38;5;129;01min\u001b[39;00m [\u001b[38;5;124m'\u001b[39m\u001b[38;5;124m日期\u001b[39m\u001b[38;5;124m'\u001b[39m, \u001b[38;5;124m'\u001b[39m\u001b[38;5;124mdate\u001b[39m\u001b[38;5;124m'\u001b[39m]:\n\u001b[0;32m     71\u001b[0m     \u001b[38;5;28;01mtry\u001b[39;00m:\n",
      "\u001b[1;31mValueError\u001b[0m: '日期' is not in list",
      "\nDuring handling of the above exception, another exception occurred:\n",
      "\u001b[1;31mValueError\u001b[0m                                Traceback (most recent call last)",
      "Cell \u001b[1;32mIn[9], line 2\u001b[0m\n\u001b[0;32m      1\u001b[0m \u001b[38;5;66;03m# Change your sheet\u001b[39;00m\n\u001b[1;32m----> 2\u001b[0m \u001b[43mmysheet\u001b[49m\u001b[38;5;241;43m.\u001b[39;49m\u001b[43mchange_sheet\u001b[49m\u001b[43m(\u001b[49m\u001b[38;5;124;43m\"\u001b[39;49m\u001b[38;5;124;43mdata\u001b[39;49m\u001b[38;5;124;43m\"\u001b[39;49m\u001b[43m,\u001b[49m\u001b[43m \u001b[49m\u001b[43mheaders_row\u001b[49m\u001b[38;5;241;43m=\u001b[39;49m\u001b[38;5;241;43m2\u001b[39;49m\u001b[43m)\u001b[49m\n\u001b[0;32m      3\u001b[0m sheet \u001b[38;5;241m=\u001b[39m mysheet\u001b[38;5;241m.\u001b[39mworksheet\n\u001b[0;32m      5\u001b[0m data \u001b[38;5;241m=\u001b[39m sheet\u001b[38;5;241m.\u001b[39mget_all_values()\n",
      "File \u001b[1;32md:\\Serena_Yu\\Desktop\\data-project-main-87\\data-project-main\\gsheets.py:62\u001b[0m, in \u001b[0;36mDateSheet.change_sheet\u001b[1;34m(self, *args, **kwargs)\u001b[0m\n\u001b[0;32m     60\u001b[0m \u001b[38;5;28;01mdef\u001b[39;00m \u001b[38;5;21mchange_sheet\u001b[39m(\u001b[38;5;28mself\u001b[39m, \u001b[38;5;241m*\u001b[39margs, \u001b[38;5;241m*\u001b[39m\u001b[38;5;241m*\u001b[39mkwargs):\n\u001b[0;32m     61\u001b[0m     \u001b[38;5;28msuper\u001b[39m()\u001b[38;5;241m.\u001b[39mchange_sheet(\u001b[38;5;241m*\u001b[39margs, \u001b[38;5;241m*\u001b[39m\u001b[38;5;241m*\u001b[39mkwargs)\n\u001b[1;32m---> 62\u001b[0m     \u001b[38;5;28;43mself\u001b[39;49m\u001b[38;5;241;43m.\u001b[39;49m\u001b[43m__find_date\u001b[49m\u001b[43m(\u001b[49m\u001b[43m)\u001b[49m\n",
      "File \u001b[1;32md:\\Serena_Yu\\Desktop\\data-project-main-87\\data-project-main\\gsheets.py:72\u001b[0m, in \u001b[0;36mDateSheet.__find_date\u001b[1;34m(self)\u001b[0m\n\u001b[0;32m     70\u001b[0m \u001b[38;5;28;01mfor\u001b[39;00m key \u001b[38;5;129;01min\u001b[39;00m [\u001b[38;5;124m'\u001b[39m\u001b[38;5;124m日期\u001b[39m\u001b[38;5;124m'\u001b[39m, \u001b[38;5;124m'\u001b[39m\u001b[38;5;124mdate\u001b[39m\u001b[38;5;124m'\u001b[39m]:\n\u001b[0;32m     71\u001b[0m     \u001b[38;5;28;01mtry\u001b[39;00m:\n\u001b[1;32m---> 72\u001b[0m         col_id \u001b[38;5;241m=\u001b[39m [h\u001b[38;5;241m.\u001b[39mstrip() \u001b[38;5;28;01mfor\u001b[39;00m h \u001b[38;5;129;01min\u001b[39;00m headers]\u001b[38;5;241m.\u001b[39mindex(key)\n\u001b[0;32m     73\u001b[0m     \u001b[38;5;28;01mexcept\u001b[39;00m \u001b[38;5;167;01mValueError\u001b[39;00m:\n\u001b[0;32m     74\u001b[0m         \u001b[38;5;28;01mcontinue\u001b[39;00m\n",
      "\u001b[1;31mValueError\u001b[0m: 'date' is not in list"
     ]
    }
   ],
   "source": [
    "# Change your sheet\n",
    "mysheet.change_sheet(\"data\", headers_row=2)\n",
    "sheet = mysheet.worksheet\n",
    "\n",
    "data = sheet.get_all_values()\n",
    "\n",
    "# Assuming headers are in the second row (index 1)\n",
    "headers = data[1]\n",
    "data = data[2:]\n",
    "\n",
    "# Create a DataFrame\n",
    "df = pd.DataFrame(data, columns=headers)\n",
    "\n",
    "# Filter rows where \"Fan Leoi 1\" column has the value \"Bou Shek\"\n",
    "filtered_df = df[df['分類1'] == '不夜之城']\n",
    "\n",
    "# Display the filtered DataFrame\n",
    "print(filtered_df)"
   ]
  },
  {
   "cell_type": "code",
   "execution_count": null,
   "metadata": {},
   "outputs": [],
   "source": [
    "# select the target sheet\n",
    "mysheet = DateSheet('nightless_city_test', date=target_date.isoformat())\n",
    "mysheet.change_sheet('工作表1')\n",
    "sheet = mysheet.worksheet\n",
    "data = filtered_df.copy()\n",
    "data = data.iloc[: 10]  # only update the first 10 rows\n",
    "\n",
    "# define the relation of columns\n",
    "column_names = {\n",
    "    \"userId\": \"userId\",\n",
    "    \"serverPrefix\": \"serverPrefix\",\n",
    "    \"Create Time\": \"CT\",\n",
    "}\n",
    "\n",
    "# rename the col of data\n",
    "data.columns = [column_names.get(c, c).lower() for c in data.columns]\n",
    "\n",
    "# sort & filter columns\n",
    "for header in mysheet.headers:\n",
    "    if header not in data.columns:\n",
    "        data.loc[:, header] = None\n",
    "data = data[mysheet.headers]\n",
    "\n",
    "# sort rows\n",
    "# data['ct'] = data['ct'].str.replace(\" \", \"T\").apply(datetime.fromisoformat)  # convert str into datetime\n",
    "data.sort_values(\"ct\", ascending=True, inplace=True)\n",
    "\n",
    "# compute the cell to paste\n",
    "cell = f\"A{len(sheet.col_values(1)) + 1}\"\n",
    "\n",
    "# update the target sheet\n",
    "sheet.update(cell, data.values.tolist())"
   ]
  }
 ],
 "metadata": {
  "kernelspec": {
   "display_name": "Python 3",
   "language": "python",
   "name": "python3"
  },
  "language_info": {
   "codemirror_mode": {
    "name": "ipython",
    "version": 3
   },
   "file_extension": ".py",
   "mimetype": "text/x-python",
   "name": "python",
   "nbconvert_exporter": "python",
   "pygments_lexer": "ipython3",
   "version": "3.11.7"
  }
 },
 "nbformat": 4,
 "nbformat_minor": 2
}
