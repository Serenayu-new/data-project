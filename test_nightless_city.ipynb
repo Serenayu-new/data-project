{
 "cells": [
  {
   "cell_type": "code",
   "execution_count": 6,
   "metadata": {},
   "outputs": [],
   "source": [
    "import asyncio\n",
    "from data_project.gsheets import DateSheet\n",
    "from datetime import date, timedelta, datetime\n",
    "import pandas as pd\n",
    "\n",
    "\n",
    "target_date = (date.today() - timedelta(days=1))\n",
    "\n",
    "async def create_sheet():\n",
    "    return DateSheet('[RP_CN] Revenue Report', date=target_date.isoformat())\n",
    "\n",
    "task_sheet = asyncio.create_task(create_sheet())\n",
    "await task_sheet\n",
    "mysheet = task_sheet.result()"
   ]
  },
  {
   "cell_type": "markdown",
   "metadata": {},
   "source": [
    "# Filter Data"
   ]
  },
  {
   "cell_type": "code",
   "execution_count": 7,
   "metadata": {},
   "outputs": [
    {
     "name": "stderr",
     "output_type": "stream",
     "text": [
      "/Users/serenayu/Documents/data-project/data_project/gsheets.py:81: UserWarning: No columns named '日期' or 'date'.\n",
      "  warnings.warn(\"No columns named '日期' or 'date'.\")\n"
     ]
    },
    {
     "name": "stdout",
     "output_type": "stream",
     "text": [
      "       serverPrefix      userId       Create Time Package ID Package Name  \\\n",
      "0              1109  1109018958  2024-03-31 23:41        225        60日冕石   \n",
      "11             1109  1109017731  2024-03-31 19:24        225        60日冕石   \n",
      "12             1108  1108014351  2024-03-28 18:15        225        60日冕石   \n",
      "13             1107  1107001330  2024-03-22 16:32        225        60日冕石   \n",
      "51             1109  1109012153   2024-03-31 0:51        225        60日冕石   \n",
      "...             ...         ...               ...        ...          ...   \n",
      "364519         1143  1143013532  2024-07-25 16:42        225        60日冕石   \n",
      "364586         1143  1143011596  2024-07-25 10:41        225        60日冕石   \n",
      "364588         1143  1143011596  2024-07-25 10:41        225        60日冕石   \n",
      "364589         1143  1143011596  2024-07-25 10:41        225        60日冕石   \n",
      "364610         1143  1143015258  2024-07-25 22:36        225        60日冕石   \n",
      "\n",
      "       Package Type price    Purchase Time 分類1 分類2    USD         Unique ID  \\\n",
      "0            BuyGem    55    1/4/2024 0:00  寶石  寶石  $0.88  BuyGem_225_60日冕石   \n",
      "11           BuyGem    55    1/4/2024 0:06  寶石  寶石  $0.88  BuyGem_225_60日冕石   \n",
      "12           BuyGem    55    1/4/2024 0:07  寶石  寶石  $0.88  BuyGem_225_60日冕石   \n",
      "13           BuyGem    55    1/4/2024 0:09  寶石  寶石  $0.88  BuyGem_225_60日冕石   \n",
      "51           BuyGem    55    1/4/2024 0:38  寶石  寶石  $0.88  BuyGem_225_60日冕石   \n",
      "...             ...   ...              ...  ..  ..    ...               ...   \n",
      "364519       BuyGem    55  25/7/2024 23:11  寶石  寶石  $0.83  BuyGem_225_60日冕石   \n",
      "364586       BuyGem    55  25/7/2024 23:45  寶石  寶石  $0.83  BuyGem_225_60日冕石   \n",
      "364588       BuyGem    55  25/7/2024 23:47  寶石  寶石  $0.83  BuyGem_225_60日冕石   \n",
      "364589       BuyGem    55  25/7/2024 23:47  寶石  寶石  $0.83  BuyGem_225_60日冕石   \n",
      "364610       BuyGem    55  25/7/2024 23:58  寶石  寶石  $0.83  BuyGem_225_60日冕石   \n",
      "\n",
      "          Reg Date    PUR Date    PUR Week  PUR MTH Retention    UNI by PUR  \\\n",
      "0       2024-03-31  2024-04-01  2024-04-01  2024-04         1          0.25   \n",
      "11      2024-03-31  2024-04-01  2024-04-01  2024-04         1           0.5   \n",
      "12      2024-03-28  2024-04-01  2024-04-01  2024-04         4           0.5   \n",
      "13      2024-03-22  2024-04-01  2024-04-01  2024-04        10           0.5   \n",
      "51      2024-03-31  2024-04-01  2024-04-01  2024-04         1          0.25   \n",
      "...            ...         ...         ...      ...       ...           ...   \n",
      "364519  2024-07-25  2024-07-25  2024-07-22  2024-07         0             1   \n",
      "364586  2024-07-25  2024-07-25  2024-07-22  2024-07         0  0.3333333333   \n",
      "364588  2024-07-25  2024-07-25  2024-07-22  2024-07         0  0.3333333333   \n",
      "364589  2024-07-25  2024-07-25  2024-07-22  2024-07         0  0.3333333333   \n",
      "364610  2024-07-25  2024-07-25  2024-07-22  2024-07         0             1   \n",
      "\n",
      "         USD by Day   白名單  \n",
      "0       3.502904357  #N/A  \n",
      "11      1.751452179  #N/A  \n",
      "12      1.751452179  #N/A  \n",
      "13      1.751452179  #N/A  \n",
      "51      3.502904357  #N/A  \n",
      "...             ...   ...  \n",
      "364519        0.825  #N/A  \n",
      "364586        2.475  #N/A  \n",
      "364588        2.475  #N/A  \n",
      "364589        2.475  #N/A  \n",
      "364610        0.825  #N/A  \n",
      "\n",
      "[15647 rows x 20 columns]\n"
     ]
    }
   ],
   "source": [
    "# Change your sheet\n",
    "mysheet.change_sheet(\"data\", headers_row=2)\n",
    "sheet = mysheet.worksheet\n",
    "\n",
    "# Get all values from the sheet\n",
    "data = sheet.get_all_values()\n",
    "\n",
    "# Assuming headers are in the second row (index 1)\n",
    "headers = data[1]\n",
    "data = data[2:]\n",
    "\n",
    "# Create a DataFrame\n",
    "df = pd.DataFrame(data, columns=headers)\n",
    "\n",
    "# Filter rows where \"Fan Leoi 1\" column has the value \"Bou Shek\"\n",
    "filtered_df = df[df['分類1'] == '寶石']\n",
    "\n",
    "# Display the filtered DataFrame\n",
    "print(filtered_df)"
   ]
  },
  {
   "cell_type": "markdown",
   "metadata": {},
   "source": [
    "# Insert Data"
   ]
  },
  {
   "cell_type": "code",
   "execution_count": 8,
   "metadata": {},
   "outputs": [
    {
     "name": "stderr",
     "output_type": "stream",
     "text": [
      "/Users/serenayu/Documents/data-project/data_project/gsheets.py:81: UserWarning: No columns named '日期' or 'date'.\n",
      "  warnings.warn(\"No columns named '日期' or 'date'.\")\n",
      "/var/folders/ct/v7_skn0d1qj1fx21m526kmwm0000gn/T/ipykernel_4255/1454590208.py:32: DeprecationWarning: The order of arguments in worksheet.update() has changed. Please pass values first and range_name secondor used named arguments (range_name=, values=)\n",
      "  sheet.update(cell, data.values.tolist())\n"
     ]
    },
    {
     "data": {
      "text/plain": [
       "{'spreadsheetId': '1SeKA_q4lj2AUgakSebhzlzW6_tb2MLEazIORIzxI8RA',\n",
       " 'updatedRange': \"'工作表1'!A12:D21\",\n",
       " 'updatedRows': 10,\n",
       " 'updatedColumns': 3,\n",
       " 'updatedCells': 30}"
      ]
     },
     "execution_count": 8,
     "metadata": {},
     "output_type": "execute_result"
    }
   ],
   "source": [
    "# select the target sheet\n",
    "mysheet = DateSheet('nightless_city_test', date=target_date.isoformat())\n",
    "mysheet.change_sheet('工作表1')\n",
    "sheet = mysheet.worksheet\n",
    "data = filtered_df.copy()\n",
    "data = data.iloc[: 10]  # only update the first 10 rows\n",
    "\n",
    "# define the relation of columns\n",
    "column_names = {\n",
    "    \"userId\": \"userId\",\n",
    "    \"serverPrefix\": \"serverPrefix\",\n",
    "    \"Create Time\": \"CT\",\n",
    "}\n",
    "\n",
    "# rename the col of data\n",
    "data.columns = [column_names.get(c, c).lower() for c in data.columns]\n",
    "\n",
    "# sort & filter columns\n",
    "for header in mysheet.headers:\n",
    "    if header not in data.columns:\n",
    "        data.loc[:, header] = None\n",
    "data = data[mysheet.headers]\n",
    "\n",
    "# sort rows\n",
    "# data['ct'] = data['ct'].str.replace(\" \", \"T\").apply(datetime.fromisoformat)  # convert str into datetime\n",
    "data.sort_values(\"ct\", ascending=True, inplace=True)\n",
    "\n",
    "# compute the cell to paste\n",
    "cell = f\"A{len(sheet.col_values(1)) + 1}\"\n",
    "\n",
    "# update the target sheet\n",
    "sheet.update(cell, data.values.tolist())"
   ]
  },
  {
   "cell_type": "code",
   "execution_count": null,
   "metadata": {},
   "outputs": [],
   "source": []
  }
 ],
 "metadata": {
  "kernelspec": {
   "display_name": "base",
   "language": "python",
   "name": "python3"
  },
  "language_info": {
   "codemirror_mode": {
    "name": "ipython",
    "version": 3
   },
   "file_extension": ".py",
   "mimetype": "text/x-python",
   "name": "python",
   "nbconvert_exporter": "python",
   "pygments_lexer": "ipython3",
   "version": "3.11.5"
  }
 },
 "nbformat": 4,
 "nbformat_minor": 2
}
